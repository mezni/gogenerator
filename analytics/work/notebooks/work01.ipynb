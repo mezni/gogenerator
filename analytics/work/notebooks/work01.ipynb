{
 "cells": [
  {
   "cell_type": "markdown",
   "id": "c3788923-7298-4c72-b045-55b696c5bf29",
   "metadata": {},
   "source": [
    "## Test generator"
   ]
  },
  {
   "cell_type": "code",
   "execution_count": 7,
   "id": "f8862aea-bc01-4be3-acae-75dac6d4290b",
   "metadata": {
    "tags": []
   },
   "outputs": [],
   "source": [
    "import requests\n",
    "import json\n",
    "import pandas as pd\n",
    "\n",
    "headers = {\"Content-type\": \"application/json\", \"Accept\": \"text/plain\"}\n",
    "url = \"http://172.18.0.100:8000/api/v1/event/\"\n",
    "\n",
    "data = {\"interval_start\": \"14/11/2023 18:00:00\", \"interval_mins\": 5, \"trx_count\": 10000}\n",
    "\n",
    "r = requests.post(url, data=json.dumps(data), headers=headers)\n",
    "status = r.status_code\n",
    "result = r.json()\n",
    "\n",
    "df = pd.DataFrame(result['Records'])\n",
    "#df.head()\n",
    "df.to_csv('../data/test.csv', encoding='utf-8', index=False)"
   ]
  },
  {
   "cell_type": "markdown",
   "id": "bf8aa930-f843-440a-bc29-9c3470dc1b93",
   "metadata": {},
   "source": [
    "## Spark session"
   ]
  },
  {
   "cell_type": "code",
   "execution_count": 1,
   "id": "9c51eb5f-53cb-4a80-a4f7-15d4476a744b",
   "metadata": {
    "tags": []
   },
   "outputs": [],
   "source": [
    "from pyspark.sql import SparkSession\n",
    "\n",
    "spark = SparkSession \\\n",
    "    .builder \\\n",
    "    .master(\"spark://172.18.0.2:7077\") \\\n",
    "    .appName(\"Analytics\") \\\n",
    "    .getOrCreate()"
   ]
  },
  {
   "cell_type": "code",
   "execution_count": 2,
   "id": "46066645-7b4c-48e0-ba49-4522e1cd1f34",
   "metadata": {
    "tags": []
   },
   "outputs": [],
   "source": [
    "df =  spark.read.format(\"csv\").load(\"/data/test.csv\")"
   ]
  },
  {
   "cell_type": "code",
   "execution_count": 3,
   "id": "6540fbe5-215a-4fff-96d9-b5861973f1f4",
   "metadata": {
    "tags": []
   },
   "outputs": [
    {
     "data": {
      "text/plain": [
       "Row(_c0='timestamp', _c1='type', _c2='appName', _c3='appInstance', _c4='appID', _c5='probeID', _c6='eventID', _c7='correletionID', _c8='transactionStart', _c9='transactionEnd', _c10='transactionDuration', _c11='clientIPAddress', _c12='clientPort', _c13='serverIPAddress', _c14='serverPort', _c15='ipProtocol', _c16='category', _c17='bytesFromClient', _c18='bytesToClient', _c19='bytesFromServer', _c20='bytesToServer', _c21='subscriberID', _c22='applicationProtocol', _c23='applicationName', _c24='domain', _c25='deviceType', _c26='networkType', _c27='contentType', _c28='lostBytesClient', _c29='lostBytesServer', _c30='srttMsClient', _c31='srttMsServer')"
      ]
     },
     "execution_count": 3,
     "metadata": {},
     "output_type": "execute_result"
    }
   ],
   "source": [
    "df.head()"
   ]
  },
  {
   "cell_type": "code",
   "execution_count": 4,
   "id": "0a1d4a06-6a77-4eaa-b741-4fc3a47ad350",
   "metadata": {
    "tags": []
   },
   "outputs": [],
   "source": [
    "df.createOrReplaceTempView(\"events\")"
   ]
  },
  {
   "cell_type": "code",
   "execution_count": 6,
   "id": "c1e954b3-0c2f-475e-b300-d19e4fe4c8a0",
   "metadata": {
    "tags": []
   },
   "outputs": [],
   "source": [
    "from pyspark.sql import SparkSession\n",
    "from pyspark.sql import SQLContext\n",
    "\n",
    "spark = SparkSession \\\n",
    "    .builder \\\n",
    "    .master(\"spark://spark-master:7077\") \\\n",
    "    .appName(\"events\") \\\n",
    "    .getOrCreate()\n",
    "\n",
    " \n",
    "df = spark.read.options(header='true', inferschema='true').csv('/data/test.csv')"
   ]
  },
  {
   "cell_type": "code",
   "execution_count": 7,
   "id": "610c29d2-2c81-4e18-a2f3-866e4a954ad9",
   "metadata": {
    "tags": []
   },
   "outputs": [],
   "source": [
    "df.createOrReplaceTempView(\"events\")"
   ]
  },
  {
   "cell_type": "code",
   "execution_count": 15,
   "id": "fa66df9f-3950-4366-83f0-cd22d6dd5abf",
   "metadata": {
    "tags": []
   },
   "outputs": [],
   "source": [
    "df_subscribers = spark.sql(\"\"\" SELECT subscriberID, count(*) FROM events GROUP BY subscriberID ORDER BY 2 DESC\"\"\")"
   ]
  },
  {
   "cell_type": "code",
   "execution_count": 16,
   "id": "151a197e-9d52-4376-8865-62b085f2af49",
   "metadata": {
    "tags": []
   },
   "outputs": [
    {
     "name": "stdout",
     "output_type": "stream",
     "text": [
      "+-------------+--------+\n",
      "| subscriberID|count(1)|\n",
      "+-------------+--------+\n",
      "|2015050628968|       9|\n",
      "|2015050504796|       7|\n",
      "|2015050640060|       6|\n",
      "|2015050320210|       6|\n",
      "|2015050417451|       6|\n",
      "|2015050379007|       6|\n",
      "|2015050557041|       5|\n",
      "|2015050920091|       5|\n",
      "|2015050813674|       5|\n",
      "|2015050229029|       5|\n",
      "|2015050466436|       5|\n",
      "|2015050839006|       5|\n",
      "|2015050541665|       5|\n",
      "|2015050291965|       5|\n",
      "|2015050725509|       5|\n",
      "|2015050108642|       5|\n",
      "|2015050738174|       5|\n",
      "|2015050160983|       5|\n",
      "|2015050118466|       5|\n",
      "|2015050504473|       5|\n",
      "+-------------+--------+\n",
      "only showing top 20 rows\n",
      "\n"
     ]
    }
   ],
   "source": [
    "df_subscribers.show()"
   ]
  },
  {
   "cell_type": "code",
   "execution_count": null,
   "id": "122cb5e5-e419-4f70-9bf1-0f9e94faf8e7",
   "metadata": {},
   "outputs": [],
   "source": [
    "df_locations = spark.sql(\"\"\" SELECT subscriberID, count(*) FROM events GROUP BY subscriberID ORDER BY 2 DESC\"\"\")"
   ]
  }
 ],
 "metadata": {
  "kernelspec": {
   "display_name": "Python 3 (ipykernel)",
   "language": "python",
   "name": "python3"
  },
  "language_info": {
   "codemirror_mode": {
    "name": "ipython",
    "version": 3
   },
   "file_extension": ".py",
   "mimetype": "text/x-python",
   "name": "python",
   "nbconvert_exporter": "python",
   "pygments_lexer": "ipython3",
   "version": "3.10.9"
  }
 },
 "nbformat": 4,
 "nbformat_minor": 5
}
