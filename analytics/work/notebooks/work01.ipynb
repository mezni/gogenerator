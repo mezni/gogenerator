{
 "cells": [
  {
   "cell_type": "markdown",
   "id": "c3788923-7298-4c72-b045-55b696c5bf29",
   "metadata": {},
   "source": [
    "## Test generator"
   ]
  },
  {
   "cell_type": "code",
   "execution_count": 7,
   "id": "f8862aea-bc01-4be3-acae-75dac6d4290b",
   "metadata": {
    "tags": []
   },
   "outputs": [],
   "source": [
    "import requests\n",
    "import json\n",
    "import pandas as pd\n",
    "\n",
    "headers = {\"Content-type\": \"application/json\", \"Accept\": \"text/plain\"}\n",
    "url = \"http://172.18.0.100:8000/api/v1/event/\"\n",
    "\n",
    "data = {\"interval_start\": \"14/11/2023 18:00:00\", \"interval_mins\": 5, \"trx_count\": 10000}\n",
    "\n",
    "r = requests.post(url, data=json.dumps(data), headers=headers)\n",
    "status = r.status_code\n",
    "result = r.json()\n",
    "\n",
    "df = pd.DataFrame(result['Records'])\n",
    "#df.head()\n",
    "df.to_csv('../data/test.csv', encoding='utf-8', index=False)"
   ]
  },
  {
   "cell_type": "markdown",
   "id": "bf8aa930-f843-440a-bc29-9c3470dc1b93",
   "metadata": {},
   "source": [
    "## Spark session"
   ]
  },
  {
   "cell_type": "code",
   "execution_count": 1,
   "id": "9c51eb5f-53cb-4a80-a4f7-15d4476a744b",
   "metadata": {
    "tags": []
   },
   "outputs": [],
   "source": [
    "from pyspark.sql import SparkSession\n",
    "\n",
    "spark = SparkSession \\\n",
    "    .builder \\\n",
    "    .master(\"spark://172.18.0.2:7077\") \\\n",
    "    .appName(\"Analytics\") \\\n",
    "    .getOrCreate()"
   ]
  },
  {
   "cell_type": "code",
   "execution_count": 2,
   "id": "46066645-7b4c-48e0-ba49-4522e1cd1f34",
   "metadata": {
    "tags": []
   },
   "outputs": [],
   "source": [
    "df =  spark.read.format(\"csv\").load(\"/data/test.csv\")"
   ]
  },
  {
   "cell_type": "code",
   "execution_count": 3,
   "id": "6540fbe5-215a-4fff-96d9-b5861973f1f4",
   "metadata": {
    "tags": []
   },
   "outputs": [
    {
     "data": {
      "text/plain": [
       "Row(_c0='timestamp', _c1='type', _c2='appName', _c3='appInstance', _c4='appID', _c5='probeID', _c6='eventID', _c7='correletionID', _c8='transactionStart', _c9='transactionEnd', _c10='transactionDuration', _c11='clientIPAddress', _c12='clientPort', _c13='serverIPAddress', _c14='serverPort', _c15='ipProtocol', _c16='category', _c17='bytesFromClient', _c18='bytesToClient', _c19='bytesFromServer', _c20='bytesToServer', _c21='subscriberID', _c22='applicationProtocol', _c23='applicationName', _c24='domain', _c25='deviceType', _c26='networkType', _c27='contentType', _c28='lostBytesClient', _c29='lostBytesServer', _c30='srttMsClient', _c31='srttMsServer')"
      ]
     },
     "execution_count": 3,
     "metadata": {},
     "output_type": "execute_result"
    }
   ],
   "source": [
    "df.head()"
   ]
  },
  {
   "cell_type": "code",
   "execution_count": null,
   "id": "0a1d4a06-6a77-4eaa-b741-4fc3a47ad350",
   "metadata": {},
   "outputs": [],
   "source": []
  }
 ],
 "metadata": {
  "kernelspec": {
   "display_name": "Python 3 (ipykernel)",
   "language": "python",
   "name": "python3"
  },
  "language_info": {
   "codemirror_mode": {
    "name": "ipython",
    "version": 3
   },
   "file_extension": ".py",
   "mimetype": "text/x-python",
   "name": "python",
   "nbconvert_exporter": "python",
   "pygments_lexer": "ipython3",
   "version": "3.10.9"
  }
 },
 "nbformat": 4,
 "nbformat_minor": 5
}
