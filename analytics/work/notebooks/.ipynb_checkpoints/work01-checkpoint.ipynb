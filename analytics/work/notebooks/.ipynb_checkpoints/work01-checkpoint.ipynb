{
 "cells": [
  {
   "cell_type": "markdown",
   "id": "c3788923-7298-4c72-b045-55b696c5bf29",
   "metadata": {},
   "source": [
    "## Test generator"
   ]
  },
  {
   "cell_type": "code",
   "execution_count": 1,
   "id": "f8862aea-bc01-4be3-acae-75dac6d4290b",
   "metadata": {
    "tags": []
   },
   "outputs": [
    {
     "name": "stdout",
     "output_type": "stream",
     "text": [
      "200\n"
     ]
    }
   ],
   "source": [
    "import requests\n",
    "import json\n",
    "\n",
    "headers = {\"Content-type\": \"application/json\", \"Accept\": \"text/plain\"}\n",
    "url = \"http://172.18.0.100:8000/api/v1/event/\"\n",
    "\n",
    "data = {\"interval_start\": \"09/11/2023 18:00:00\", \"interval_mins\": 5, \"trx_count\": 5}\n",
    "\n",
    "r = requests.post(url, data=json.dumps(data), headers=headers)\n",
    "status = r.status_code\n",
    "result = r.json()\n",
    "\n",
    "print (status)"
   ]
  },
  {
   "cell_type": "code",
   "execution_count": null,
   "id": "51015c16-7cd6-4bbc-b6ac-25ba4dffe74c",
   "metadata": {},
   "outputs": [],
   "source": []
  }
 ],
 "metadata": {
  "kernelspec": {
   "display_name": "Python 3 (ipykernel)",
   "language": "python",
   "name": "python3"
  },
  "language_info": {
   "codemirror_mode": {
    "name": "ipython",
    "version": 3
   },
   "file_extension": ".py",
   "mimetype": "text/x-python",
   "name": "python",
   "nbconvert_exporter": "python",
   "pygments_lexer": "ipython3",
   "version": "3.10.9"
  }
 },
 "nbformat": 4,
 "nbformat_minor": 5
}
