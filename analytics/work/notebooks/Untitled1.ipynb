{
 "cells": [
  {
   "cell_type": "code",
   "execution_count": 6,
   "id": "cfd61dc3-1e27-45fb-8886-030d95014d46",
   "metadata": {},
   "outputs": [],
   "source": [
    "from pyspark.sql import SparkSession\n",
    "from pyspark.sql.types import StructField, StructType, StringType, IntegerType, LongType\n",
    "from pyspark.sql.functions import from_json,col\n",
    "\n",
    "def get_spark_session():\n",
    "    spark = SparkSession \\\n",
    "        .builder \\\n",
    "        .appName(\"stream-from-Kafka\") \\\n",
    "        .config(\"spark.streaming.stopGracefullyOnShutdown\", True) \\\n",
    "        .config(\"spark.jars.packages\", \"org.apache.spark:spark-sql-kafka-0-10_2.12:3.5.0\") \\\n",
    "        .config(\"spark.sql.shuffle.partitions\", 4) \\\n",
    "        .master(\"spark://spark-master:7077\") \\\n",
    "        .getOrCreate()\n",
    "    return spark\n",
    "\n",
    "events_schema = StructType([ \n",
    "    StructField('timestamp', StringType(), True),\n",
    "    StructField('type', StringType(), True),\n",
    "    StructField('appName', StringType(), True), \n",
    "    StructField('appInstance', StringType(), True),\n",
    "    StructField('appID', StringType(), True),\n",
    "    StructField('probeID', StringType(), True),\n",
    "    StructField('eventID', StringType(), True),\n",
    "    StructField('correletionID', StringType(), True),\n",
    "    StructField('locationID', StringType(), True),\n",
    "    StructField('transactionStart', StringType(), True), \n",
    "    StructField('transactionEnd', StringType(), True), \n",
    "    StructField('transactionDuration', StringType(), True), \n",
    "    StructField('clientIPAddress', StringType(), True),\n",
    "    StructField('clientPort', StringType(), True), \n",
    "    StructField('serverIPAddress', StringType(), True), \n",
    "    StructField('serverPort', StringType(), True), \n",
    "    StructField('ipProtocol', StringType(), True), \n",
    "    StructField('category', StringType(), True), \n",
    "    StructField('bytesFromClient', StringType(), True), \n",
    "    StructField('bytesToClient', StringType(), True), \n",
    "    StructField('bytesFromServer', StringType(), True), \n",
    "    StructField('bytesToServer', StringType(), True), \n",
    "    StructField('subscriberID', StringType(), True), \n",
    "    StructField('applicationProtocol', StringType(), True), \n",
    "    StructField('applicationName', StringType(), True), \n",
    "    StructField('domain', StringType(), True), \n",
    "    StructField('deviceType', StringType(), True), \n",
    "    StructField('networkType', StringType(), True), \n",
    "    StructField('contentType', StringType(), True), \n",
    "    StructField('lostBytesClient', StringType(), True), \n",
    "    StructField('lostBytesServer', StringType(), True), \n",
    "    StructField('srttMsClient', StringType(), True), \n",
    "    StructField('srttMsServer', StringType(), True), \n",
    "])\n"
   ]
  },
  {
   "cell_type": "code",
   "execution_count": 2,
   "id": "5aeadd4d-8465-4906-9acf-d7236f013298",
   "metadata": {},
   "outputs": [],
   "source": [
    "spark = get_spark_session()"
   ]
  },
  {
   "cell_type": "code",
   "execution_count": 3,
   "id": "cedbda57-7cf9-4f5a-804f-685e7b9cccaa",
   "metadata": {},
   "outputs": [],
   "source": [
    "KAFKA_BOOTSTRAP_SERVERS = \"kafka1:19092,kafka2:19093,kafka3:19094\"\n",
    "KAFKA_TOPIC = \"events\"\n",
    "\n",
    "df = spark.readStream.format(\"kafka\") \\\n",
    "    .option(\"kafka.bootstrap.servers\", KAFKA_BOOTSTRAP_SERVERS) \\\n",
    "    .option(\"subscribe\", KAFKA_TOPIC) \\\n",
    "    .option(\"startingOffsets\", \"earliest\") \\\n",
    "    .load()"
   ]
  },
  {
   "cell_type": "code",
   "execution_count": 7,
   "id": "966497c3-88f8-426a-94ea-4f4b0168fc9e",
   "metadata": {},
   "outputs": [],
   "source": [
    "df = df.selectExpr(\"CAST(value AS STRING)\").select(from_json(col(\"value\"),events_schema).alias(\"data\")).select(\"data.*\")"
   ]
  },
  {
   "cell_type": "code",
   "execution_count": null,
   "id": "fd1c0a19-dbd4-4795-9ffd-c89c591eedd5",
   "metadata": {},
   "outputs": [],
   "source": [
    "my_query = (df.writeStream\n",
    "        .format(\"console\")\n",
    "        .outputMode(\"append\")\n",
    "        .start())\n",
    "\n",
    "my_query.awaitTermination()\n"
   ]
  },
  {
   "cell_type": "code",
   "execution_count": null,
   "id": "2b54bed7-cf41-419d-85ed-8657a6466855",
   "metadata": {},
   "outputs": [],
   "source": []
  },
  {
   "cell_type": "code",
   "execution_count": null,
   "id": "6743c5b9-033f-4c09-8fa2-867ad0ec35c9",
   "metadata": {},
   "outputs": [],
   "source": []
  }
 ],
 "metadata": {
  "kernelspec": {
   "display_name": "Python 3 (ipykernel)",
   "language": "python",
   "name": "python3"
  },
  "language_info": {
   "codemirror_mode": {
    "name": "ipython",
    "version": 3
   },
   "file_extension": ".py",
   "mimetype": "text/x-python",
   "name": "python",
   "nbconvert_exporter": "python",
   "pygments_lexer": "ipython3",
   "version": "3.11.6"
  }
 },
 "nbformat": 4,
 "nbformat_minor": 5
}
