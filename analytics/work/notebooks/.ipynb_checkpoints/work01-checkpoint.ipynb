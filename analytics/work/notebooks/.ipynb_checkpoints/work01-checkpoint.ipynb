{
 "cells": [
  {
   "cell_type": "markdown",
   "id": "c3788923-7298-4c72-b045-55b696c5bf29",
   "metadata": {},
   "source": [
    "## Test generator"
   ]
  },
  {
   "cell_type": "code",
   "execution_count": 7,
   "id": "f8862aea-bc01-4be3-acae-75dac6d4290b",
   "metadata": {
    "tags": []
   },
   "outputs": [],
   "source": [
    "import requests\n",
    "import json\n",
    "import pandas as pd\n",
    "\n",
    "headers = {\"Content-type\": \"application/json\", \"Accept\": \"text/plain\"}\n",
    "url = \"http://172.18.0.100:8000/api/v1/event/\"\n",
    "\n",
    "data = {\"interval_start\": \"14/11/2023 18:00:00\", \"interval_mins\": 5, \"trx_count\": 10000}\n",
    "\n",
    "r = requests.post(url, data=json.dumps(data), headers=headers)\n",
    "status = r.status_code\n",
    "result = r.json()\n",
    "\n",
    "df = pd.DataFrame(result['Records'])\n",
    "#df.head()\n",
    "df.to_csv('../data/test.csv', encoding='utf-8', index=False)"
   ]
  },
  {
   "cell_type": "markdown",
   "id": "bf8aa930-f843-440a-bc29-9c3470dc1b93",
   "metadata": {},
   "source": [
    "## Spark session"
   ]
  },
  {
   "cell_type": "code",
   "execution_count": 1,
   "id": "9c51eb5f-53cb-4a80-a4f7-15d4476a744b",
   "metadata": {
    "tags": []
   },
   "outputs": [],
   "source": [
    "from pyspark.sql import SparkSession\n",
    "\n",
    "spark = SparkSession \\\n",
    "    .builder \\\n",
    "    .master(\"spark://172.18.0.2:7077\") \\\n",
    "    .appName(\"Analytics\") \\\n",
    "    .getOrCreate()"
   ]
  },
  {
   "cell_type": "code",
   "execution_count": 2,
   "id": "46066645-7b4c-48e0-ba49-4522e1cd1f34",
   "metadata": {
    "tags": []
   },
   "outputs": [],
   "source": [
    "df =  spark.read.format(\"csv\").load(\"/data/test.csv\")"
   ]
  },
  {
   "cell_type": "code",
   "execution_count": 3,
   "id": "6540fbe5-215a-4fff-96d9-b5861973f1f4",
   "metadata": {
    "tags": []
   },
   "outputs": [
    {
     "data": {
      "text/plain": [
       "Row(_c0='timestamp', _c1='type', _c2='appName', _c3='appInstance', _c4='appID', _c5='probeID', _c6='eventID', _c7='correletionID', _c8='transactionStart', _c9='transactionEnd', _c10='transactionDuration', _c11='clientIPAddress', _c12='clientPort', _c13='serverIPAddress', _c14='serverPort', _c15='ipProtocol', _c16='category', _c17='bytesFromClient', _c18='bytesToClient', _c19='bytesFromServer', _c20='bytesToServer', _c21='subscriberID', _c22='applicationProtocol', _c23='applicationName', _c24='domain', _c25='deviceType', _c26='networkType', _c27='contentType', _c28='lostBytesClient', _c29='lostBytesServer', _c30='srttMsClient', _c31='srttMsServer')"
      ]
     },
     "execution_count": 3,
     "metadata": {},
     "output_type": "execute_result"
    }
   ],
   "source": [
    "df.head()"
   ]
  },
  {
   "cell_type": "code",
   "execution_count": 4,
   "id": "0a1d4a06-6a77-4eaa-b741-4fc3a47ad350",
   "metadata": {
    "tags": []
   },
   "outputs": [],
   "source": [
    "df.createOrReplaceTempView(\"events\")"
   ]
  },
  {
   "cell_type": "code",
   "execution_count": 6,
   "id": "c1e954b3-0c2f-475e-b300-d19e4fe4c8a0",
   "metadata": {
    "tags": []
   },
   "outputs": [],
   "source": [
    "from pyspark.sql import SparkSession\n",
    "from pyspark.sql import SQLContext\n",
    "\n",
    "spark = SparkSession \\\n",
    "    .builder \\\n",
    "    .master(\"spark://spark-master:7077\") \\\n",
    "    .appName(\"events\") \\\n",
    "    .getOrCreate()\n",
    "\n",
    " \n",
    "df = spark.read.options(header='true', inferschema='true').csv('/data/test.csv')"
   ]
  },
  {
   "cell_type": "code",
   "execution_count": 7,
   "id": "610c29d2-2c81-4e18-a2f3-866e4a954ad9",
   "metadata": {
    "tags": []
   },
   "outputs": [],
   "source": [
    "df.createOrReplaceTempView(\"events\")"
   ]
  },
  {
   "cell_type": "code",
   "execution_count": 8,
   "id": "fa66df9f-3950-4366-83f0-cd22d6dd5abf",
   "metadata": {
    "tags": []
   },
   "outputs": [],
   "source": [
    "df_all = spark.sql(\"\"\" SELECT * FROM events \"\"\")"
   ]
  },
  {
   "cell_type": "code",
   "execution_count": 9,
   "id": "151a197e-9d52-4376-8865-62b085f2af49",
   "metadata": {
    "tags": []
   },
   "outputs": [
    {
     "name": "stdout",
     "output_type": "stream",
     "text": [
      "+----------+-------------+--------------------+-----------+-----+--------------------+--------------------+-------------+----------------+--------------+-------------------+---------------+----------+---------------+----------+----------+------------------+---------------+-------------+---------------+-------------+-------------+-------------------+----------------+-----------------+-------------+-----------+-----------+---------------+---------------+------------+------------+\n",
      "| timestamp|         type|             appName|appInstance|appID|             probeID|             eventID|correletionID|transactionStart|transactionEnd|transactionDuration|clientIPAddress|clientPort|serverIPAddress|serverPort|ipProtocol|          category|bytesFromClient|bytesToClient|bytesFromServer|bytesToServer| subscriberID|applicationProtocol| applicationName|           domain|   deviceType|networkType|contentType|lostBytesClient|lostBytesServer|srttMsClient|srttMsServer|\n",
      "+----------+-------------+--------------------+-----------+-----+--------------------+--------------------+-------------+----------------+--------------+-------------------+---------------+----------+---------------+----------+----------+------------------+---------------+-------------+---------------+-------------+-------------+-------------------+----------------+-----------------+-------------+-----------+-----------+---------------+---------------+------------+------------+\n",
      "|1699985100|AllIPMessages|TrafficServerElement|       7890|31240|b283d5a5-3954-470...|0f1b4f8f-f26a-45b...|   6564253785|      1699984901|    1699984934|                 33| 125.208.77.195|     40923|  24.153.125.25|       443|       udp|              voip|             49|          635|            635|           49|2015050499909|              quick|           skype|    app.skype.com|  samsung s19|          -|      quick|              0|              0|         265|         272|\n",
      "|1699985100|AllIPMessages|TrafficServerElement|       7890|31240|b283d5a5-3954-470...|c4009efa-8ee3-449...|   6633042117|      1699985007|    1699985014|                  7| 95.203.220.197|     15499| 16.199.101.166|       443|       tcp|content downstream|            364|         1946|           1946|          364|2015050584563|              https|          ubuntu|    ubuntuone.com|    iphone 13|         3g|        web|              0|              0|         199|         321|\n",
      "|1699985100|AllIPMessages|TrafficServerElement|       7890|31240|b283d5a5-3954-470...|77a988b2-ff74-409...|   4885603648|      1699984188|    1699985015|                827|  123.60.198.62|     51012| 220.179.53.117|       443|       udp|content downstream|           6114|         7870|           7870|         6114|2015050712137|             oracle|          oracle|                -|    iphone 14|         5g|       text|              0|              0|          99|         494|\n",
      "|1699985100|AllIPMessages|TrafficServerElement|       7890|31240|b283d5a5-3954-470...|99261d69-1aad-457...|   8856895859|      1699982078|    1699984889|               2811|  133.189.58.32|     26065|202.246.181.237|       443|       udp|            gaming|          24284|        97896|          97896|        24284|2015050776135|              quick|         ubisoft|  app.ubisoft.com|    motorolla|         2g|        web|              0|              0|         348|         143|\n",
      "|1699985100|AllIPMessages|TrafficServerElement|       7890|31240|b283d5a5-3954-470...|6e1edb50-0890-47c...|   8399555263|      1699984793|    1699984823|                 30|  25.190.178.24|     36229|    54.18.30.60|       443|       udp|             video|            402|          502|            502|          402|2015050418851|              quick|          amazon|   app.amazon.com|            -|         3g|      quick|              0|              0|         250|         396|\n",
      "|1699985100|AllIPMessages|TrafficServerElement|       7890|31240|b283d5a5-3954-470...|5c69169d-d03f-4dd...|   7001748873|      1699984951|    1699984991|                 40|    119.1.40.23|     28637|   188.9.61.208|       443|       tcp|content downstream|           1176|         1515|           1515|         1176|2015050219337|              https|microsoft update|app.microsoft.com|  samsung s22|         3g|        web|              0|              0|         112|         260|\n",
      "|1699985100|AllIPMessages|TrafficServerElement|       7890|31240|b283d5a5-3954-470...|2be126cd-b02c-4b9...|   8289276483|      1699984119|    1699985010|                891|171.148.156.239|      4245|  174.176.236.8|       443|       tcp|                 -|           2114|        18301|          18301|         2114|2015050585188|              https|               -|                -|       iphone|         2g|        web|              0|              0|         301|          58|\n",
      "|1699985100|AllIPMessages|TrafficServerElement|       7890|31240|b283d5a5-3954-470...|4a49f26b-b9c4-411...|   1724955805|      1699984929|    1699984968|                 39|   17.19.131.93|     46787|  38.123.29.197|       443|       udp|  content upstream|           1333|         2655|           2655|         1333|2015050569377|               icmp|            mail|  mail.google.com|          htc|         3g|        web|              0|              0|         391|         555|\n",
      "|1699985100|AllIPMessages|TrafficServerElement|       7890|31240|b283d5a5-3954-470...|8a8f2128-bb54-400...|   3201437728|      1699984863|    1699984900|                 37|  213.86.229.43|     45554| 196.252.146.15|       443|       udp|              voip|           1091|          486|            486|         1091|2015050878180|              quick|           skype|    app.skype.com|          htc|          -|      quick|              0|              0|         460|         322|\n",
      "|1699985100|AllIPMessages|TrafficServerElement|       7890|31240|b283d5a5-3954-470...|b8ccf2a3-f5f6-481...|   2999342397|      1699984868|    1699984900|                 32|  69.223.24.165|     48440| 236.162.56.253|       443|       tcp|      social media|            538|         2467|           2467|          538|2015050814056|              https|        facebook| app.facebook.com|   blackberry|          -|        web|              0|              0|         412|         435|\n",
      "|1699985100|AllIPMessages|TrafficServerElement|       7890|31240|b283d5a5-3954-470...|4a6ddd8f-69c3-4fe...|   2713160823|      1699984868|    1699984871|                  3|  217.57.109.73|     60985| 110.57.102.254|       443|       udp|            gaming|            332|         3150|           3150|          332|2015050214080|              quick|            xbox|     app.xbox.com|        nokia|         5g|        web|              0|              0|          62|         228|\n",
      "|1699985100|AllIPMessages|TrafficServerElement|       7890|31240|b283d5a5-3954-470...|57dfdfb2-aa2c-4ed...|   7844540544|      1699984884|    1699984907|                 23|  59.110.16.101|      8634|   80.6.110.217|       443|       udp|             video|           1491|          451|            451|         1491|2015050559514|              quick|         netflix|  app.netflix.com|       iphone|          -|      quick|              0|              0|         475|          43|\n",
      "|1699985100|AllIPMessages|TrafficServerElement|       7890|31240|b283d5a5-3954-470...|39651f99-a033-4c0...|   2252080256|      1699985100|    1699984892|                  0|   29.52.11.197|     61362|240.172.189.138|       443|       tcp|      social media|           1111|         2107|           2107|         1111|2015050760815|              https|        facebook| app.facebook.com|  samsung s19|         4g|        web|              0|              0|           5|         158|\n",
      "|1699985100|AllIPMessages|TrafficServerElement|       7890|31240|b283d5a5-3954-470...|f8943e84-ef03-411...|   3448139376|      1699984831|    1699984846|                 15|  29.101.196.28|     50931|  244.52.122.58|       443|       udp|  content upstream|           7418|         2156|           2156|         7418|2015050650652|               icmp|            mail| mail.outlook.com|       iphone|          -|        web|              0|              0|         244|          67|\n",
      "|1699985100|AllIPMessages|TrafficServerElement|       7890|31240|b283d5a5-3954-470...|5a540ae3-4859-499...|   3262077928|      1699983766|    1699984847|               1081| 207.106.36.192|     40498|   4.168.31.239|       443|       udp|                 -|          36460|        27557|          27557|        36460|2015050137094|                  -|               -|                -|    iphone 13|         5g|        web|              0|              0|         152|          50|\n",
      "|1699985100|AllIPMessages|TrafficServerElement|       7890|31240|b283d5a5-3954-470...|f60e40e0-2ba5-45e...|   9605327256|      1699984926|    1699984972|                 46|   37.53.79.224|     28213| 184.51.167.117|       443|       udp|             video|            583|         3021|           3021|          583|2015050302402|              quick|         youtube|  app.youtube.com|iphone 15 pro|         2g|      quick|              0|              0|         463|         247|\n",
      "|1699985100|AllIPMessages|TrafficServerElement|       7890|31240|b283d5a5-3954-470...|555e5a1a-b7aa-442...|   9590564803|      1699984998|    1699985034|                 36| 57.203.113.159|     52927| 116.131.103.21|       443|       udp|              voip|            418|          753|            753|          418|2015050112901|              quick|        whatsapp| app.whatsapp.com|        pixel|         2g|      quick|              0|              0|         489|         427|\n",
      "|1699985100|AllIPMessages|TrafficServerElement|       7890|31240|b283d5a5-3954-470...|6c0cae1b-2e79-4b5...|   3122762386|      1699984854|    1699984859|                  5|    9.48.233.35|     45348|236.240.195.119|       443|       udp|              voip|            699|         1787|           1787|          699|2015050106872|              quick|        whatsapp| app.whatsapp.com|       xioami|         5g|      quick|              0|              0|         494|         853|\n",
      "|1699985100|AllIPMessages|TrafficServerElement|       7890|31240|b283d5a5-3954-470...|9ab8a054-fe3b-431...|   5697008284|      1699985087|    1699985093|                  6|  91.104.254.24|     34888| 250.242.14.164|       443|       tcp|  content upstream|            569|          183|            183|          569|2015050504869|              https|             tor|          tor.com|  samsung s23|         3g|        web|              0|              0|         212|         423|\n",
      "|1699985100|AllIPMessages|TrafficServerElement|       7890|31240|b283d5a5-3954-470...|2c485713-9c29-4c0...|   8596328882|      1699984863|    1699984915|                 52| 245.209.118.39|      9758|     140.60.1.5|       443|       udp|            gaming|           1523|         2199|           2199|         1523|2015050895319|              quick|          twitch|       twitch.com|  samsung s21|         5g|        web|              0|              0|         120|         353|\n",
      "+----------+-------------+--------------------+-----------+-----+--------------------+--------------------+-------------+----------------+--------------+-------------------+---------------+----------+---------------+----------+----------+------------------+---------------+-------------+---------------+-------------+-------------+-------------------+----------------+-----------------+-------------+-----------+-----------+---------------+---------------+------------+------------+\n",
      "only showing top 20 rows\n",
      "\n"
     ]
    }
   ],
   "source": [
    "df_all.show()"
   ]
  },
  {
   "cell_type": "code",
   "execution_count": null,
   "id": "122cb5e5-e419-4f70-9bf1-0f9e94faf8e7",
   "metadata": {},
   "outputs": [],
   "source": []
  }
 ],
 "metadata": {
  "kernelspec": {
   "display_name": "Python 3 (ipykernel)",
   "language": "python",
   "name": "python3"
  },
  "language_info": {
   "codemirror_mode": {
    "name": "ipython",
    "version": 3
   },
   "file_extension": ".py",
   "mimetype": "text/x-python",
   "name": "python",
   "nbconvert_exporter": "python",
   "pygments_lexer": "ipython3",
   "version": "3.10.9"
  }
 },
 "nbformat": 4,
 "nbformat_minor": 5
}
