{
 "cells": [
  {
   "cell_type": "code",
   "execution_count": 10,
   "id": "4f79e233-f4e2-4d7b-9fd2-6ef9a7755801",
   "metadata": {
    "tags": []
   },
   "outputs": [],
   "source": [
    "from pyspark.sql import SparkSession\n",
    "import pyspark.sql.functions as F\n",
    "from pyspark.sql.types import StructField, StructType, StringType, IntegerType, LongType\n",
    "\n",
    "KAFKA_BOOTSTRAP_SERVERS = \"kafka1:19092,kafka2:19093,kafka3:19094\"\n",
    "KAFKA_TOPIC = \"events\"\n",
    "\n",
    "\n",
    "events_schema = StructType([ \n",
    "    StructField('timestamp', IntegerType(), True),\n",
    "    StructField('type', StringType(), True),\n",
    "    StructField('appName', StringType(), True), \n",
    "    StructField('appInstance', IntegerType(), True),\n",
    "    StructField('appID', IntegerType(), True),\n",
    "    StructField('probeID', StringType(), True),\n",
    "    StructField('eventID', StringType(), True),\n",
    "    StructField('correletionID', IntegerType(), True),\n",
    "    StructField('locationID', StringType(), True),\n",
    "    StructField('transactionStart', IntegerType(), True), \n",
    "    StructField('transactionEnd', IntegerType(), True), \n",
    "    StructField('transactionDuration', IntegerType(), True), \n",
    "    StructField('clientIPAddress', StringType(), True),\n",
    "    StructField('clientPort', IntegerType(), True), \n",
    "    StructField('serverIPAddress', StringType(), True), \n",
    "    StructField('serverPort', IntegerType(), True), \n",
    "    StructField('ipProtocol', StringType(), True), \n",
    "    StructField('category', StringType(), True), \n",
    "    StructField('bytesFromClient', IntegerType(), True), \n",
    "    StructField('bytesToClient', IntegerType(), True), \n",
    "    StructField('bytesFromServer', IntegerType(), True), \n",
    "    StructField('bytesToServer', IntegerType(), True), \n",
    "    StructField('subscriberID', LongType(), True), \n",
    "    StructField('applicationProtocol', StringType(), True), \n",
    "    StructField('applicationName', StringType(), True), \n",
    "    StructField('domain', StringType(), True), \n",
    "    StructField('deviceType', StringType(), True), \n",
    "    StructField('networkType', StringType(), True), \n",
    "    StructField('contentType', StringType(), True), \n",
    "    StructField('lostBytesClient', IntegerType(), True), \n",
    "    StructField('lostBytesServer', IntegerType(), True), \n",
    "    StructField('srttMsClient', IntegerType(), True), \n",
    "    StructField('srttMsServer', IntegerType(), True), \n",
    "])\n",
    "\n",
    "\n",
    "spark = SparkSession \\\n",
    "    .builder \\\n",
    "    .appName(\"stream-from-Kafka\") \\\n",
    "    .config(\"spark.streaming.stopGracefullyOnShutdown\", True) \\\n",
    "    .config(\"spark.jars.packages\", \"org.apache.spark:spark-sql-kafka-0-10_2.12:3.3.0\") \\\n",
    "    .config(\"spark.sql.shuffle.partitions\", 4) \\\n",
    "    .master(\"spark://spark-master:7077\") \\\n",
    "    .getOrCreate()\n",
    "\n",
    "# Reduce logging\n",
    "spark.sparkContext.setLogLevel(\"WARN\")\n",
    "\n",
    "df = spark.readStream.format(\"kafka\") \\\n",
    "    .option(\"kafka.bootstrap.servers\", KAFKA_BOOTSTRAP_SERVERS) \\\n",
    "    .option(\"subscribe\", KAFKA_TOPIC) \\\n",
    "    .option(\"startingOffsets\", \"earliest\") \\\n",
    "    .load()"
   ]
  },
  {
   "cell_type": "code",
   "execution_count": 12,
   "id": "634a3cb8-66ed-4ee5-a53c-0c6a7869ff6e",
   "metadata": {
    "tags": []
   },
   "outputs": [],
   "source": [
    "df_events_stream = df\\\n",
    "    .select(\n",
    "        F.from_json(\n",
    "            F.decode(F.col(\"value\"), \"utf-8\"),\n",
    "            events_schema\n",
    "        ).alias(\"value\")\n",
    "    )\\\n",
    "    .select(\"value.*\")\\\n",
    "    .writeStream\\\n",
    "    .outputMode(\"append\")\\\n",
    "    .format(\"console\")\\\n",
    "    .start()"
   ]
  },
  {
   "cell_type": "code",
   "execution_count": null,
   "id": "3faa3ecf-b19a-49bd-8916-3c770cf23a25",
   "metadata": {},
   "outputs": [],
   "source": []
  }
 ],
 "metadata": {
  "kernelspec": {
   "display_name": "Python 3 (ipykernel)",
   "language": "python",
   "name": "python3"
  },
  "language_info": {
   "codemirror_mode": {
    "name": "ipython",
    "version": 3
   },
   "file_extension": ".py",
   "mimetype": "text/x-python",
   "name": "python",
   "nbconvert_exporter": "python",
   "pygments_lexer": "ipython3",
   "version": "3.10.9"
  }
 },
 "nbformat": 4,
 "nbformat_minor": 5
}
