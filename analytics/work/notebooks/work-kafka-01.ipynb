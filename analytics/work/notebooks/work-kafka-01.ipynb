{
 "cells": [
  {
   "cell_type": "code",
   "execution_count": 8,
   "id": "e67f75bd-e1d5-4a35-992c-d9e6264663a8",
   "metadata": {
    "tags": []
   },
   "outputs": [],
   "source": [
    "# !pip install confluent-kafka"
   ]
  },
  {
   "cell_type": "markdown",
   "id": "25e6a5bd-f17a-42ad-b120-755a9b1bef05",
   "metadata": {},
   "source": [
    "## Kafka producer"
   ]
  },
  {
   "cell_type": "code",
   "execution_count": null,
   "id": "213b1bc9-2bee-413f-be54-fc57854f8a77",
   "metadata": {
    "tags": []
   },
   "outputs": [],
   "source": [
    "import requests\n",
    "import json\n",
    "from datetime import datetime, timedelta\n",
    "from confluent_kafka import Producer\n",
    "\n",
    "def get_events(events_start_date, interval_mins, trx_count):\n",
    "    headers = {\"Content-type\": \"application/json\", \"Accept\": \"text/plain\"}\n",
    "    data = {\"interval_start\": events_start_date, \"interval_mins\": interval_mins, \"trx_count\": trx_count}\n",
    "\n",
    "    r = requests.post(url, data=json.dumps(data), headers=headers)\n",
    "    status = r.status_code\n",
    "    result = r.json()\n",
    "    if status == 200:\n",
    "        return result['Records']\n",
    "    else:\n",
    "        return []\n",
    "\n",
    "def acked(err, msg):\n",
    "    if err is not None:\n",
    "        print(\"Failed to deliver message: %s: %s\" % (str(msg), str(err)))\n",
    "#    else:\n",
    "#        print(\"Message produced: %s\" % (str(msg)))\n",
    "    \n",
    "\n",
    "def generate_next_date(events_start_date, interval_mins, interval_multiplier):\n",
    "    next_start_date_time = datetime.strptime(events_start_date, \"%d/%m/%Y %H:%M:%S\") + timedelta(minutes=interval_mins * interval_multiplier) \n",
    "    next_start_date = next_start_date_time.strftime(\"%d/%m/%Y %H:%M:%S\")\n",
    "    return next_start_date\n",
    "    \n",
    "    \n",
    "url = \"http://172.18.0.100:8000/api/v1/event/\"\n",
    "    \n",
    "conf = {'bootstrap.servers': 'kafka1:19092,kafka2:19093,kafka3:19094'}\n",
    "\n",
    "topic='events'    \n",
    "    \n",
    "producer = Producer(**conf)\n",
    "\n",
    "events_start_date = \"15/11/2023 19:00:00\"\n",
    "interval_mins = 5\n",
    "trx_count =1000\n",
    "\n",
    "for i in range(10):\n",
    "    next_start_date=generate_next_date(events_start_date, interval_mins, i)\n",
    "    for i in range(10):\n",
    "        events = get_events(next_start_date, interval_mins, trx_count)    \n",
    "        for event in result['Records']:\n",
    "            producer.produce(topic, json.dumps(event).encode('utf-8'), callback=acked)\n",
    "    producer.poll(1)    "
   ]
  },
  {
   "cell_type": "code",
   "execution_count": null,
   "id": "eb1cc5db-8a62-401f-82a5-3c8951a2705a",
   "metadata": {},
   "outputs": [],
   "source": []
  }
 ],
 "metadata": {
  "kernelspec": {
   "display_name": "Python 3 (ipykernel)",
   "language": "python",
   "name": "python3"
  },
  "language_info": {
   "codemirror_mode": {
    "name": "ipython",
    "version": 3
   },
   "file_extension": ".py",
   "mimetype": "text/x-python",
   "name": "python",
   "nbconvert_exporter": "python",
   "pygments_lexer": "ipython3",
   "version": "3.10.9"
  }
 },
 "nbformat": 4,
 "nbformat_minor": 5
}
