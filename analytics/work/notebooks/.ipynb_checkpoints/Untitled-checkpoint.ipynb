{
 "cells": [
  {
   "cell_type": "code",
   "execution_count": null,
   "id": "4911b9ac-cf07-43d4-a619-e0eb17bd5573",
   "metadata": {},
   "outputs": [],
   "source": [
    "from pyspark.sql import SparkSession\n",
    "from pyspark.sql.types import StructField, StructType, StringType, IntegerType, LongType\n",
    "from pyspark.sql.functions import from_json,col, to_timestamp, date_format, concat\n",
    "\n",
    "events_schema = StructType([ \n",
    "    StructField('timestamp', StringType(), True),\n",
    "    StructField('type', StringType(), True),\n",
    "    StructField('appName', StringType(), True), \n",
    "    StructField('appInstance', LongType(), True),\n",
    "    StructField('appID', StringType(), True),\n",
    "    StructField('probeID', StringType(), True),\n",
    "    StructField('eventID', StringType(), True),\n",
    "    StructField('correletionID', LongType(), True),\n",
    "    StructField('locationID', StringType(), True),\n",
    "    StructField('transactionStart', LongType(), True), \n",
    "    StructField('transactionEnd', LongType(), True), \n",
    "    StructField('transactionDuration', LongType(), True), \n",
    "    StructField('clientIPAddress', StringType(), True),\n",
    "    StructField('clientPort', IntegerType(), True), \n",
    "    StructField('serverIPAddress', StringType(), True), \n",
    "    StructField('serverPort', IntegerType(), True), \n",
    "    StructField('ipProtocol', StringType(), True), \n",
    "    StructField('category', StringType(), True), \n",
    "    StructField('bytesFromClient', LongType(), True), \n",
    "    StructField('bytesToClient', LongType(), True), \n",
    "    StructField('bytesFromServer', LongType(), True), \n",
    "    StructField('bytesToServer', LongType(), True), \n",
    "    StructField('subscriberID', StringType(), True), \n",
    "    StructField('applicationProtocol', StringType(), True), \n",
    "    StructField('applicationName', StringType(), True), \n",
    "    StructField('domain', StringType(), True), \n",
    "    StructField('deviceType', StringType(), True), \n",
    "    StructField('networkType', StringType(), True), \n",
    "    StructField('contentType', StringType(), True), \n",
    "    StructField('lostBytesClient', LongType(), True), \n",
    "    StructField('lostBytesServer', LongType(), True), \n",
    "    StructField('srttMsClient', LongType(), True), \n",
    "    StructField('srttMsServer', LongType(), True), \n",
    "])\n",
    "\n",
    "\n",
    "def get_spark_session():\n",
    "    spark = SparkSession \\\n",
    "        .builder \\\n",
    "        .appName(\"stream-from-Kafka2\") \\\n",
    "        .config(\"spark.streaming.stopGracefullyOnShutdown\", True) \\\n",
    "        .config(\"spark.jars.packages\", \"com.datastax.spark:spark-cassandra-connector_2.12:3.5.0,org.apache.spark:spark-sql-kafka-0-10_2.12:3.5.0\") \\\n",
    "        .config(\"spark.cassandra.connection.host\", \"events-db\") \\\n",
    "        .config(\"spark.cassandra.connection.port\",\"9042\")\\\n",
    "        .config(\"spark.cassandra.auth.username\", \"cassandra\") \\\n",
    "        .config(\"spark.cassandra.auth.password\", \"cassandra\") \\\n",
    "        .config(\"spark.sql.shuffle.partitions\", 4) \\\n",
    "        .master(\"spark://spark-master:7077\") \\\n",
    "        .getOrCreate()\n",
    "    return spark"
   ]
  }
 ],
 "metadata": {
  "kernelspec": {
   "display_name": "Python 3 (ipykernel)",
   "language": "python",
   "name": "python3"
  },
  "language_info": {
   "codemirror_mode": {
    "name": "ipython",
    "version": 3
   },
   "file_extension": ".py",
   "mimetype": "text/x-python",
   "name": "python",
   "nbconvert_exporter": "python",
   "pygments_lexer": "ipython3",
   "version": "3.11.6"
  }
 },
 "nbformat": 4,
 "nbformat_minor": 5
}
