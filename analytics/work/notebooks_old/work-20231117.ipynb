{
 "cells": [
  {
   "cell_type": "code",
   "execution_count": 1,
   "id": "9bdedf89-56f6-4c22-bb3b-152385262cc6",
   "metadata": {
    "tags": []
   },
   "outputs": [],
   "source": [
    "from pyspark.sql import SparkSession\n",
    "\n",
    "spark = SparkSession \\\n",
    "    .builder \\\n",
    "    .master(\"spark://spark-master:7077\") \\\n",
    "    .appName(\"events\") \\\n",
    "    .config(\"spark.jars.packages\", \"org.apache.spark:spark-sql-kafka-0-10_2.12:3.0.0\") \\\n",
    "    .getOrCreate()"
   ]
  },
  {
   "cell_type": "code",
   "execution_count": 2,
   "id": "215b9530-6886-4eb0-a122-7dc066ae82b3",
   "metadata": {
    "tags": []
   },
   "outputs": [],
   "source": [
    "df = spark \\\n",
    "  .readStream \\\n",
    "  .format(\"kafka\") \\\n",
    "  .option(\"kafka.bootstrap.servers\", \"kafka1:19092,kafka2:19093,kafka3:19094\") \\\n",
    "  .option(\"subscribe\", \"events\") \\\n",
    "  .load()"
   ]
  },
  {
   "cell_type": "code",
   "execution_count": 23,
   "id": "9d5d352b-e70a-4464-b676-117f3db14fe3",
   "metadata": {
    "tags": []
   },
   "outputs": [
    {
     "name": "stdout",
     "output_type": "stream",
     "text": [
      "root\n",
      " |-- key: binary (nullable = true)\n",
      " |-- value: binary (nullable = true)\n",
      " |-- topic: string (nullable = true)\n",
      " |-- partition: integer (nullable = true)\n",
      " |-- offset: long (nullable = true)\n",
      " |-- timestamp: timestamp (nullable = true)\n",
      " |-- timestampType: integer (nullable = true)\n",
      "\n"
     ]
    }
   ],
   "source": [
    "df.printSchema()"
   ]
  },
  {
   "cell_type": "code",
   "execution_count": 6,
   "id": "6bdf52fb-9a5f-432e-81d1-5f94aaf825a4",
   "metadata": {
    "tags": []
   },
   "outputs": [],
   "source": [
    "dsraw = spark \\\n",
    "  .readStream \\\n",
    "  .format(\"kafka\") \\\n",
    "  .option(\"kafka.bootstrap.servers\", \"kafka1:19092,kafka2:19093,kafka3:19094\") \\\n",
    "  .option(\"subscribe\", \"events\") \\\n",
    "  .option(\"startingOffsets\", \"earliest\") \\\n",
    "  .load()"
   ]
  },
  {
   "cell_type": "code",
   "execution_count": 7,
   "id": "0f7babcb-6d44-4d92-a2f9-b8614c48cc20",
   "metadata": {
    "tags": []
   },
   "outputs": [],
   "source": [
    "ds = dsraw.selectExpr(\"CAST(value AS STRING)\")"
   ]
  },
  {
   "cell_type": "code",
   "execution_count": 8,
   "id": "0f2f48f7-edd3-4e1e-9bc8-f215910173ec",
   "metadata": {
    "tags": []
   },
   "outputs": [],
   "source": [
    "rawQuery = dsraw \\\n",
    "        .writeStream \\\n",
    "        .queryName(\"qraw\")\\\n",
    "        .format(\"memory\")\\\n",
    "        .start()\n"
   ]
  },
  {
   "cell_type": "code",
   "execution_count": 9,
   "id": "ad93a7bc-0aec-4833-a26d-de90923ddca4",
   "metadata": {
    "tags": []
   },
   "outputs": [
    {
     "name": "stdout",
     "output_type": "stream",
     "text": [
      "+----+--------------------+------+---------+------+--------------------+-------------+\n",
      "| key|               value| topic|partition|offset|           timestamp|timestampType|\n",
      "+----+--------------------+------+---------+------+--------------------+-------------+\n",
      "|null|[7B 22 74 69 6D 6...|events|        1|     0|2023-11-18 15:47:...|            0|\n",
      "|null|[7B 22 74 69 6D 6...|events|        1|     1|2023-11-18 15:47:...|            0|\n",
      "|null|[7B 22 74 69 6D 6...|events|        1|     2|2023-11-18 15:47:...|            0|\n",
      "|null|[7B 22 74 69 6D 6...|events|        1|     3|2023-11-18 15:47:...|            0|\n",
      "|null|[7B 22 74 69 6D 6...|events|        1|     4|2023-11-18 15:47:...|            0|\n",
      "|null|[7B 22 74 69 6D 6...|events|        1|     5|2023-11-18 15:47:...|            0|\n",
      "|null|[7B 22 74 69 6D 6...|events|        1|     6|2023-11-18 15:47:...|            0|\n",
      "|null|[7B 22 74 69 6D 6...|events|        1|     7|2023-11-18 15:47:...|            0|\n",
      "|null|[7B 22 74 69 6D 6...|events|        1|     8|2023-11-18 15:47:...|            0|\n",
      "|null|[7B 22 74 69 6D 6...|events|        1|     9|2023-11-18 15:47:...|            0|\n",
      "|null|[7B 22 74 69 6D 6...|events|        1|    10|2023-11-18 15:47:...|            0|\n",
      "|null|[7B 22 74 69 6D 6...|events|        1|    11|2023-11-18 15:47:...|            0|\n",
      "|null|[7B 22 74 69 6D 6...|events|        1|    12|2023-11-18 15:47:...|            0|\n",
      "|null|[7B 22 74 69 6D 6...|events|        1|    13|2023-11-18 15:47:...|            0|\n",
      "|null|[7B 22 74 69 6D 6...|events|        1|    14|2023-11-18 15:47:...|            0|\n",
      "|null|[7B 22 74 69 6D 6...|events|        1|    15|2023-11-18 15:47:...|            0|\n",
      "|null|[7B 22 74 69 6D 6...|events|        1|    16|2023-11-18 15:47:...|            0|\n",
      "|null|[7B 22 74 69 6D 6...|events|        1|    17|2023-11-18 15:47:...|            0|\n",
      "|null|[7B 22 74 69 6D 6...|events|        1|    18|2023-11-18 15:47:...|            0|\n",
      "|null|[7B 22 74 69 6D 6...|events|        1|    19|2023-11-18 15:47:...|            0|\n",
      "+----+--------------------+------+---------+------+--------------------+-------------+\n",
      "only showing top 20 rows\n",
      "\n"
     ]
    }
   ],
   "source": [
    "raw = spark.sql(\"select * from qraw\")\n",
    "raw.show()"
   ]
  },
  {
   "cell_type": "code",
   "execution_count": 10,
   "id": "ea07e18b-0d9e-4eab-a23e-2d16d4c0a2bb",
   "metadata": {
    "tags": []
   },
   "outputs": [],
   "source": [
    "eventsQuery = ds \\\n",
    "        .writeStream \\\n",
    "        .queryName(\"events\")\\\n",
    "        .format(\"memory\")\\\n",
    "        .start()"
   ]
  },
  {
   "cell_type": "code",
   "execution_count": 11,
   "id": "5a3291bb-70a3-49ec-944f-7b7395f328fb",
   "metadata": {
    "tags": []
   },
   "outputs": [
    {
     "name": "stdout",
     "output_type": "stream",
     "text": [
      "+--------------------+\n",
      "|               value|\n",
      "+--------------------+\n",
      "|{\"timestamp\": 170...|\n",
      "|{\"timestamp\": 170...|\n",
      "|{\"timestamp\": 170...|\n",
      "|{\"timestamp\": 170...|\n",
      "|{\"timestamp\": 170...|\n",
      "|{\"timestamp\": 170...|\n",
      "|{\"timestamp\": 170...|\n",
      "|{\"timestamp\": 170...|\n",
      "|{\"timestamp\": 170...|\n",
      "|{\"timestamp\": 170...|\n",
      "|{\"timestamp\": 170...|\n",
      "|{\"timestamp\": 170...|\n",
      "|{\"timestamp\": 170...|\n",
      "|{\"timestamp\": 170...|\n",
      "|{\"timestamp\": 170...|\n",
      "|{\"timestamp\": 170...|\n",
      "|{\"timestamp\": 170...|\n",
      "|{\"timestamp\": 170...|\n",
      "|{\"timestamp\": 170...|\n",
      "|{\"timestamp\": 170...|\n",
      "+--------------------+\n",
      "only showing top 20 rows\n",
      "\n"
     ]
    }
   ],
   "source": [
    "alerts = spark.sql(\"select * from events\")\n",
    "alerts.show()"
   ]
  },
  {
   "cell_type": "code",
   "execution_count": null,
   "id": "4d372efe-4851-4b20-bf05-0d601cbc61fb",
   "metadata": {},
   "outputs": [],
   "source": []
  }
 ],
 "metadata": {
  "kernelspec": {
   "display_name": "Python 3 (ipykernel)",
   "language": "python",
   "name": "python3"
  },
  "language_info": {
   "codemirror_mode": {
    "name": "ipython",
    "version": 3
   },
   "file_extension": ".py",
   "mimetype": "text/x-python",
   "name": "python",
   "nbconvert_exporter": "python",
   "pygments_lexer": "ipython3",
   "version": "3.10.9"
  }
 },
 "nbformat": 4,
 "nbformat_minor": 5
}
